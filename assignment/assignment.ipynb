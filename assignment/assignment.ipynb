{
  "cells": [
    {
      "cell_type": "markdown",
      "id": "13ad028b-72b7-43ed-aa78-96fd4e518040",
      "metadata": {
        "id": "13ad028b-72b7-43ed-aa78-96fd4e518040"
      },
      "source": [
        "# Assignment: Data Wrangling"
      ]
    },
    {
      "cell_type": "markdown",
      "id": "5735a4d4-8be8-433a-a351-70eb8002e632",
      "metadata": {
        "id": "5735a4d4-8be8-433a-a351-70eb8002e632"
      },
      "source": [
        "**Q1.** Open the \"tidy_data.pdf\" document in the repo, which is a paper called Tidy Data by Hadley Wickham.\n",
        "\n",
        "  1. Read the abstract. What is this paper about?\n",
        "  2. Read the introduction. What is the \"tidy data standard\" intended to accomplish?\n",
        "  3. Read the intro to section 2. What does this sentence mean: \"Like families, tidy datasets are all alike but every messy dataset is messy in its own way.\" What does this sentence mean: \"For a given dataset, it’s usually easy to figure out what are observations and what are variables, but it is surprisingly difficult to precisely define variables and observations in general.\"\n",
        "  4. Read Section 2.2. How does Wickham define values, variables, and observations?\n",
        "  5. How is \"Tidy Data\" defined in section 2.3?\n",
        "  6. Read the intro to Section 3 and Section 3.1. What are the 5 most common problems with messy datasets? Why are the data in Table 4 messy? What is \"melting\" a dataset?\n",
        "  7. Why, specifically, is table 11 messy but table 12 tidy and \"molten\"?\n",
        "  8. Read Section 6. What is the \"chicken-and-egg\" problem with focusing on tidy data? What does Wickham hope happens in the future with further work on the subject of data wrangling?"
      ]
    },
    {
      "cell_type": "markdown",
      "source": [
        "1. This paper focuses on how to make data cleaning effective through data tidying. Data tidying is done with tidy datasets, which are datasets with each variable being a column, each observation a row, and each type of observational unit a table. The structure of tidy datasets allows them to easily fix messy datasets, manipulate and visualize the data, and develop tools for analysis.\n",
        "\n",
        "2. The tidy data standard is meant to help structure datasets to facilitate analysis. organise data values within a dataset. The standard makes data cleaning more effective because there is a structure to cleaning that doesn't have to be redone every time. It facilitates exploring and analyzing and developing tools for data cleaning.\n",
        "\n",
        "3. The first sentence means that tidy datasets are all standardized in the same way, so it's easy to understand even without knowing the depth of the data. Messy data can be messy in many different ways and will all be different. The second sentence is in reference to the fact that variables and observations can change depending on who is using the values and what meaning people are looking to derive.\n",
        "\n",
        "4. Values belong to a variable and observation. A variable has all of the values that are measuring the same attribute, while an observation contains all of the values that are measured with the same unit. Values are collected into a dataset.\n",
        "\n",
        "5. Tidy data is a standard for mapping a dataset using the following structure:  each variable makes a column, each observation makes a row, each type of observation unit makes a new table.\n",
        "\n",
        "6. The five most common messy data mistakes are:\n",
        "- The column headers are values instead of variable names\n",
        "- multiple variables are stored in one column\n",
        "- the variables are stored in rows and columns\n",
        "- multiple observational units are stored in the same table\n",
        "-a single observational unit is in multiple tables\n",
        "\n",
        "Table 4 is messy because the column headers are values instead of names and because variables are in the rows and columns. Melting a dataset means to stack it, or put columns into rows.\n",
        "\n",
        "7. Table 11 is messy because there are variables in the rows and columns. Table 12 has one variable for each column and each row is a one day observation.\n",
        "\n",
        "8. The chicken and egg problem is that if tidy data can only be used with the tools created for it, then the tools will only ever be used for tidy data. Therefore, changing data structure and tools won't ever improve the workflow. Wickham hopes in the future that methodologies from other fields can improve understanding of cognitive data analysis and improve the design of appropriate data tools.\n"
      ],
      "metadata": {
        "id": "yEmtcKRRf3ke"
      },
      "id": "yEmtcKRRf3ke"
    },
    {
      "cell_type": "markdown",
      "id": "da879ea7-8aac-48a3-b6c2-daea56d2e072",
      "metadata": {
        "id": "da879ea7-8aac-48a3-b6c2-daea56d2e072"
      },
      "source": [
        "**Q2.** This question provides some practice cleaning variables which have common problems.\n",
        "1. Numeric variable: For `./data/airbnb_hw.csv`, clean the `Price` variable as well as you can, and explain the choices you make. How many missing values do you end up with? (Hint: What happens to the formatting when a price goes over 999 dollars, say from 675 to 1,112?)\n",
        "2. Categorical variable: For the `./data/sharks.csv` data covered in the lecture, clean the \"Type\" variable as well as you can, and explain the choices you make.\n",
        "3. Dummy variable: For the pretrial data covered in the lecture, clean the `WhetherDefendantWasReleasedPretrial` variable as well as you can, and, in particular, replace missing values with `np.nan`.\n",
        "4. Missing values, not at random: For the pretrial data covered in the lecture, clean the `ImposedSentenceAllChargeInContactEvent` variable as well as you can, and explain the choices you make. (Hint: Look at the `SentenceTypeAllChargesAtConvictionInContactEvent` variable.)"
      ]
    },
    {
      "cell_type": "code",
      "source": [],
      "metadata": {
        "id": "sJY3Qr8-gFEk"
      },
      "id": "sJY3Qr8-gFEk",
      "execution_count": null,
      "outputs": []
    },
    {
      "cell_type": "markdown",
      "id": "649494cd-cfd6-4f80-992a-9994fc19e1d5",
      "metadata": {
        "id": "649494cd-cfd6-4f80-992a-9994fc19e1d5"
      },
      "source": [
        "**Q3.** Many important datasets contain a race variable, typically limited to a handful of values often including Black, White, Asian, Latino, and Indigenous. This question looks at data gathering efforts on this variable by the U.S. Federal government.\n",
        "\n",
        "1. How did the most recent US Census gather data on race?\n",
        "2. Why do we gather these data? What role do these kinds of data play in politics and society? Why does data quality matter?\n",
        "3. Please provide a constructive criticism of how the Census was conducted: What was done well? What do you think was missing? How should future large scale surveys be adjusted to best reflect the diversity of the population? Could some of the Census' good practices be adopted more widely to gather richer and more useful data?\n",
        "4. How did the Census gather data on sex and gender? Please provide a similar constructive criticism of their practices.\n",
        "5. When it comes to cleaning data, what concerns do you have about protected characteristics like sex, gender, sexual identity, or race? What challenges can you imagine arising when there are missing values? What good or bad practices might people adopt, and why?\n",
        "6. Suppose someone invented an algorithm to impute values for protected characteristics like race, gender, sex, or sexuality. What kinds of concerns would you have?"
      ]
    },
    {
      "cell_type": "markdown",
      "source": [
        "1.\n",
        "2.\n",
        "3.\n",
        "4.\n",
        "5.\n",
        "6.\n"
      ],
      "metadata": {
        "id": "P2w6zqCkgH1x"
      },
      "id": "P2w6zqCkgH1x"
    },
    {
      "cell_type": "code",
      "source": [],
      "metadata": {
        "id": "5hiCEGcxgN6_"
      },
      "id": "5hiCEGcxgN6_",
      "execution_count": null,
      "outputs": []
    }
  ],
  "metadata": {
    "colab": {
      "provenance": []
    },
    "kernelspec": {
      "display_name": "Python 3 (ipykernel)",
      "language": "python",
      "name": "python3"
    },
    "language_info": {
      "codemirror_mode": {
        "name": "ipython",
        "version": 3
      },
      "file_extension": ".py",
      "mimetype": "text/x-python",
      "name": "python",
      "nbconvert_exporter": "python",
      "pygments_lexer": "ipython3",
      "version": "3.10.4"
    }
  },
  "nbformat": 4,
  "nbformat_minor": 5
}