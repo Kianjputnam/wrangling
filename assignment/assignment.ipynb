{
  "cells": [
    {
      "cell_type": "markdown",
      "id": "13ad028b-72b7-43ed-aa78-96fd4e518040",
      "metadata": {
        "id": "13ad028b-72b7-43ed-aa78-96fd4e518040"
      },
      "source": [
        "# Assignment: Data Wrangling\n",
        "\n",
        "! git clone https://github.com/DS3001/wrangling\n",
        "\n",
        "# Do Q2, and one of Q1 or Q3."
      ]
    },
    {
      "cell_type": "code",
      "source": [
        "! git clone https://github.com/DS3001/wrangling"
      ],
      "metadata": {
        "id": "EJYEy6otWZ9Q",
        "outputId": "503a7bfb-256f-4afb-a7d5-89575511bc20",
        "colab": {
          "base_uri": "https://localhost:8080/"
        }
      },
      "id": "EJYEy6otWZ9Q",
      "execution_count": 1,
      "outputs": [
        {
          "output_type": "stream",
          "name": "stdout",
          "text": [
            "Cloning into 'wrangling'...\n",
            "remote: Enumerating objects: 75, done.\u001b[K\n",
            "remote: Counting objects: 100% (34/34), done.\u001b[K\n",
            "remote: Compressing objects: 100% (24/24), done.\u001b[K\n",
            "remote: Total 75 (delta 27), reused 10 (delta 10), pack-reused 41\u001b[K\n",
            "Receiving objects: 100% (75/75), 6.25 MiB | 19.40 MiB/s, done.\n",
            "Resolving deltas: 100% (33/33), done.\n"
          ]
        }
      ]
    },
    {
      "cell_type": "markdown",
      "id": "5735a4d4-8be8-433a-a351-70eb8002e632",
      "metadata": {
        "id": "5735a4d4-8be8-433a-a351-70eb8002e632"
      },
      "source": [
        "**Q1.** Open the \"tidy_data.pdf\" document in the repo, which is a paper called Tidy Data by Hadley Wickham.\n",
        "\n",
        "  1. Read the abstract. What is this paper about?\n",
        "  2. Read the introduction. What is the \"tidy data standard\" intended to accomplish?\n",
        "  3. Read the intro to section 2. What does this sentence mean: \"Like families, tidy datasets are all alike but every messy dataset is messy in its own way.\" What does this sentence mean: \"For a given dataset, it’s usually easy to figure out what are observations and what are variables, but it is surprisingly difficult to precisely define variables and observations in general.\"\n",
        "  4. Read Section 2.2. How does Wickham define values, variables, and observations?\n",
        "  5. How is \"Tidy Data\" defined in section 2.3?\n",
        "  6. Read the intro to Section 3 and Section 3.1. What are the 5 most common problems with messy datasets? Why are the data in Table 4 messy? What is \"melting\" a dataset?\n",
        "  7. Why, specifically, is table 11 messy but table 12 tidy and \"molten\"?\n",
        "  8. Read Section 6. What is the \"chicken-and-egg\" problem with focusing on tidy data? What does Wickham hope happens in the future with further work on the subject of data wrangling?"
      ]
    },
    {
      "cell_type": "markdown",
      "source": [
        "1. This paper focuses on how to make data cleaning effective through data tidying. Data tidying is done with tidy datasets, which are datasets with each variable being a column, each observation a row, and each type of observational unit a table. The structure of tidy datasets allows them to easily fix messy datasets, manipulate and visualize the data, and develop tools for analysis.\n",
        "\n",
        "2. The tidy data standard is meant to help structure datasets to facilitate analysis. organise data values within a dataset. The standard makes data cleaning more effective because there is a structure to cleaning that doesn't have to be redone every time. It facilitates exploring and analyzing and developing tools for data cleaning.\n",
        "\n",
        "3. The first sentence means that tidy datasets are all standardized in the same way, so it's easy to understand even without knowing the depth of the data. Messy data can be messy in many different ways and will all be different. The second sentence is in reference to the fact that variables and observations can change depending on who is using the values and what meaning people are looking to derive.\n",
        "\n",
        "4. Values belong to a variable and observation. A variable has all of the values that are measuring the same attribute, while an observation contains all of the values that are measured with the same unit. Values are collected into a dataset.\n",
        "\n",
        "5. Tidy data is a standard for mapping a dataset using the following structure:  each variable makes a column, each observation makes a row, each type of observation unit makes a new table.\n",
        "\n",
        "6. The five most common messy data mistakes are:\n",
        "- The column headers are values instead of variable names\n",
        "- multiple variables are stored in one column\n",
        "- the variables are stored in rows and columns\n",
        "- multiple observational units are stored in the same table\n",
        "-a single observational unit is in multiple tables\n",
        "\n",
        "Table 4 is messy because the column headers are values instead of names and because variables are in the rows and columns. Melting a dataset means to stack it, or put columns into rows.\n",
        "\n",
        "7. Table 11 is messy because there are variables in the rows and columns. Table 12 has one variable for each column and each row is a one day observation.\n",
        "\n",
        "8. The chicken and egg problem is that if tidy data can only be used with the tools created for it, then the tools will only ever be used for tidy data. Therefore, changing data structure and tools won't ever improve the workflow. Wickham hopes in the future that methodologies from other fields can improve understanding of cognitive data analysis and improve the design of appropriate data tools.\n"
      ],
      "metadata": {
        "id": "yEmtcKRRf3ke"
      },
      "id": "yEmtcKRRf3ke"
    },
    {
      "cell_type": "markdown",
      "id": "da879ea7-8aac-48a3-b6c2-daea56d2e072",
      "metadata": {
        "id": "da879ea7-8aac-48a3-b6c2-daea56d2e072"
      },
      "source": [
        "**Q2.** This question provides some practice cleaning variables which have common problems.\n",
        "1. Numeric variable: For `./data/airbnb_hw.csv`, clean the `Price` variable as well as you can, and explain the choices you make. How many missing values do you end up with? (Hint: What happens to the formatting when a price goes over 999 dollars, say from 675 to 1,112?)\n",
        "2. Categorical variable: For the `./data/sharks.csv` data covered in the lecture, clean the \"Type\" variable as well as you can, and explain the choices you make.\n",
        "3. Dummy variable: For the pretrial data covered in the lecture, clean the `WhetherDefendantWasReleasedPretrial` variable as well as you can, and, in particular, replace missing values with `np.nan`.\n",
        "4. Missing values, not at random: For the pretrial data covered in the lecture, clean the `ImposedSentenceAllChargeInContactEvent` variable as well as you can, and explain the choices you make. (Hint: Look at the `SentenceTypeAllChargesAtConvictionInContactEvent` variable.)"
      ]
    },
    {
      "cell_type": "code",
      "source": [
        "import pandas as pd\n",
        "import numpy as np\n",
        "\n",
        "url = 'http://www.vcsc.virginia.gov/pretrialdataproject/October%202017%20Cohort_Virginia%20Pretrial%20Data%20Project_Deidentified%20FINAL%20Update_10272021.csv'\n",
        "df = pd.read_csv(url,low_memory=False)\n",
        "\n",
        "airb = pd.read_csv('./wrangling/assignment/data/airbnb_hw.csv',low_memory=False)\n",
        "\n",
        "dfshark = pd.read_csv('./wrangling/data/sharks.csv',low_memory=False)"
      ],
      "metadata": {
        "id": "sJY3Qr8-gFEk"
      },
      "id": "sJY3Qr8-gFEk",
      "execution_count": 17,
      "outputs": []
    },
    {
      "cell_type": "code",
      "source": [
        "print(airb.head())\n",
        "print(airb[\"Price\"].unique())\n",
        "print(airb[\"Price\"].value_counts())"
      ],
      "metadata": {
        "id": "nvNg6C9paN8O",
        "outputId": "48fd0a3c-e1c9-48df-af39-e9b67e772d91",
        "colab": {
          "base_uri": "https://localhost:8080/"
        }
      },
      "id": "nvNg6C9paN8O",
      "execution_count": 22,
      "outputs": [
        {
          "output_type": "stream",
          "name": "stdout",
          "text": [
            "    Host Id Host Since                                Name Neighbourhood   \\\n",
            "0   5162530        NaN     1 Bedroom in Prime Williamsburg       Brooklyn   \n",
            "1  33134899        NaN     Sunny, Private room in Bushwick       Brooklyn   \n",
            "2  39608626        NaN                Sunny Room in Harlem      Manhattan   \n",
            "3       500  6/26/2008  Gorgeous 1 BR with Private Balcony      Manhattan   \n",
            "4       500  6/26/2008            Trendy Times Square Loft      Manhattan   \n",
            "\n",
            "  Property Type  Review Scores Rating (bin)        Room Type  Zipcode  Beds  \\\n",
            "0     Apartment                         NaN  Entire home/apt  11249.0   1.0   \n",
            "1     Apartment                         NaN     Private room  11206.0   1.0   \n",
            "2     Apartment                         NaN     Private room  10032.0   1.0   \n",
            "3     Apartment                         NaN  Entire home/apt  10024.0   3.0   \n",
            "4     Apartment                        95.0     Private room  10036.0   3.0   \n",
            "\n",
            "   Number of Records  Number Of Reviews Price  Review Scores Rating  \\\n",
            "0                  1                  0   145                   NaN   \n",
            "1                  1                  1    37                   NaN   \n",
            "2                  1                  1    28                   NaN   \n",
            "3                  1                  0   199                   NaN   \n",
            "4                  1                 39   549                  96.0   \n",
            "\n",
            "   Clean_Price  \n",
            "0          145  \n",
            "1           37  \n",
            "2           28  \n",
            "3          199  \n",
            "4          549  \n",
            "['145' '37' '28' '199' '549' '149' '250' '90' '270' '290' '170' '59' '49'\n",
            " '68' '285' '75' '100' '150' '700' '125' '175' '40' '89' '95' '99' '499'\n",
            " '120' '79' '110' '180' '143' '230' '350' '135' '85' '60' '70' '55' '44'\n",
            " '200' '165' '115' '74' '84' '129' '50' '185' '80' '190' '140' '45' '65'\n",
            " '225' '600' '109' '1,990' '73' '240' '72' '105' '155' '160' '42' '132'\n",
            " '117' '295' '280' '159' '107' '69' '239' '220' '399' '130' '375' '585'\n",
            " '275' '139' '260' '35' '133' '300' '289' '179' '98' '195' '29' '27' '39'\n",
            " '249' '192' '142' '169' '1,000' '131' '138' '113' '122' '329' '101' '475'\n",
            " '238' '272' '308' '126' '235' '315' '248' '128' '56' '207' '450' '215'\n",
            " '210' '385' '445' '136' '247' '118' '77' '76' '92' '198' '205' '299'\n",
            " '222' '245' '104' '153' '349' '114' '320' '292' '226' '420' '500' '325'\n",
            " '307' '78' '265' '108' '123' '189' '32' '58' '86' '219' '800' '335' '63'\n",
            " '229' '425' '67' '87' '1,200' '158' '650' '234' '310' '695' '400' '166'\n",
            " '119' '62' '168' '340' '479' '43' '395' '144' '52' '47' '529' '187' '209'\n",
            " '233' '82' '269' '163' '172' '305' '156' '550' '435' '137' '124' '48'\n",
            " '279' '330' '5,000' '134' '378' '97' '277' '64' '193' '147' '186' '264'\n",
            " '30' '3,000' '112' '94' '379' '57' '415' '236' '410' '214' '88' '66' '71'\n",
            " '171' '157' '545' '1,500' '83' '96' '1,800' '81' '188' '380' '255' '505'\n",
            " '54' '33' '174' '93' '740' '640' '1,300' '440' '599' '357' '1,239' '495'\n",
            " '127' '5,999' '178' '348' '152' '242' '183' '253' '750' '259' '365' '273'\n",
            " '197' '397' '103' '389' '355' '559' '38' '203' '999' '141' '162' '333'\n",
            " '698' '46' '360' '895' '10' '41' '206' '281' '449' '388' '212' '102'\n",
            " '201' '2,750' '4,750' '432' '675' '167' '390' '298' '339' '194' '302'\n",
            " '211' '595' '191' '53' '361' '480' '8,000' '4,500' '459' '997' '345'\n",
            " '216' '218' '111' '735' '276' '91' '490' '850' '398' '36' '775' '267'\n",
            " '625' '336' '2,500' '176' '725' '3,750' '469' '106' '460' '287' '575'\n",
            " '227' '263' '25' '228' '208' '177' '880' '148' '116' '685' '470' '217'\n",
            " '164' '61' '645' '699' '405' '252' '319' '268' '419' '343' '525' '311'\n",
            " '840' '154' '294' '950' '409' '184' '257' '204' '241' '2,000' '412' '121'\n",
            " '288' '196' '900' '647' '524' '1,750' '309' '510' '1,495' '1,700' '799'\n",
            " '383' '372' '492' '327' '1,999' '656' '224' '173' '875' '1,170' '795'\n",
            " '690' '146' '465' '1,100' '151' '274' '429' '825' '282' '256' '1,111'\n",
            " '620' '271' '161' '51' '855' '579' '1,174' '430' '20' '899' '649' '485'\n",
            " '181' '455' '4,000' '243' '342' '590' '560' '374' '437' '232' '359' '985'\n",
            " '31' '244' '254' '723' '237' '428' '370' '34' '1,400' '580' '2,520' '221'\n",
            " '749' '1,600' '2,695' '306' '202' '680' '570' '520' '223' '2,295' '213'\n",
            " '1,065' '346' '24' '286' '296' '266' '26' '995' '1,368' '393' '182' '635'\n",
            " '258' '780' '589' '347' '1,250' '1,350' '446' '3,200' '1,050' '1,650'\n",
            " '1,550' '975' '323' '6,500' '2,499' '1,850' '2,250' '715' '461' '540'\n",
            " '356' '439' '384' '569' '1,900' '22' '785' '626' '830' '318' '444' '321'\n",
            " '401' '1,499' '888' '369' '770' '386' '366' '344' '630' '313' '597' '262'\n",
            " '509' '10,000' '278' '312' '789' '1,195' '422' '21' '765' '3,500' '945'\n",
            " '326' '3,100' '2,486' '3,390' '1,356' '2,599' '472' '454' '328' '396'\n",
            " '291']\n",
            "150      1481\n",
            "100      1207\n",
            "200      1059\n",
            "125       889\n",
            "75        873\n",
            "         ... \n",
            "840         1\n",
            "306         1\n",
            "2,695       1\n",
            "2,520       1\n",
            "291         1\n",
            "Name: Price, Length: 511, dtype: int64\n"
          ]
        }
      ]
    },
    {
      "cell_type": "code",
      "source": [
        "#creating a new variable to work on\n",
        "airb['Clean_Price'] = airb['Price']\n",
        "#get rid of commas to make the variable uniform\n",
        "airb['Clean_Price'] = airb['Clean_Price'].str.replace(',', '')\n",
        "#convert to numeric so calculations can be done\n",
        "airb['Clean_Price'] = pd.to_numeric(airb['Clean_Price'], errors='coerce')\n",
        "print(airb[\"Clean_Price\"].unique())\n",
        "print(airb[\"Clean_Price\"].value_counts())\n",
        "#retained all 511 values"
      ],
      "metadata": {
        "id": "AAQvYEmia19I",
        "outputId": "ec5dcc53-a953-4af7-e513-2cb1889e8055",
        "colab": {
          "base_uri": "https://localhost:8080/"
        }
      },
      "id": "AAQvYEmia19I",
      "execution_count": 28,
      "outputs": [
        {
          "output_type": "stream",
          "name": "stdout",
          "text": [
            "[  145    37    28   199   549   149   250    90   270   290   170    59\n",
            "    49    68   285    75   100   150   700   125   175    40    89    95\n",
            "    99   499   120    79   110   180   143   230   350   135    85    60\n",
            "    70    55    44   200   165   115    74    84   129    50   185    80\n",
            "   190   140    45    65   225   600   109  1990    73   240    72   105\n",
            "   155   160    42   132   117   295   280   159   107    69   239   220\n",
            "   399   130   375   585   275   139   260    35   133   300   289   179\n",
            "    98   195    29    27    39   249   192   142   169  1000   131   138\n",
            "   113   122   329   101   475   238   272   308   126   235   315   248\n",
            "   128    56   207   450   215   210   385   445   136   247   118    77\n",
            "    76    92   198   205   299   222   245   104   153   349   114   320\n",
            "   292   226   420   500   325   307    78   265   108   123   189    32\n",
            "    58    86   219   800   335    63   229   425    67    87  1200   158\n",
            "   650   234   310   695   400   166   119    62   168   340   479    43\n",
            "   395   144    52    47   529   187   209   233    82   269   163   172\n",
            "   305   156   550   435   137   124    48   279   330  5000   134   378\n",
            "    97   277    64   193   147   186   264    30  3000   112    94   379\n",
            "    57   415   236   410   214    88    66    71   171   157   545  1500\n",
            "    83    96  1800    81   188   380   255   505    54    33   174    93\n",
            "   740   640  1300   440   599   357  1239   495   127  5999   178   348\n",
            "   152   242   183   253   750   259   365   273   197   397   103   389\n",
            "   355   559    38   203   999   141   162   333   698    46   360   895\n",
            "    10    41   206   281   449   388   212   102   201  2750  4750   432\n",
            "   675   167   390   298   339   194   302   211   595   191    53   361\n",
            "   480  8000  4500   459   997   345   216   218   111   735   276    91\n",
            "   490   850   398    36   775   267   625   336  2500   176   725  3750\n",
            "   469   106   460   287   575   227   263    25   228   208   177   880\n",
            "   148   116   685   470   217   164    61   645   699   405   252   319\n",
            "   268   419   343   525   311   840   154   294   950   409   184   257\n",
            "   204   241  2000   412   121   288   196   900   647   524  1750   309\n",
            "   510  1495  1700   799   383   372   492   327  1999   656   224   173\n",
            "   875  1170   795   690   146   465  1100   151   274   429   825   282\n",
            "   256  1111   620   271   161    51   855   579  1174   430    20   899\n",
            "   649   485   181   455  4000   243   342   590   560   374   437   232\n",
            "   359   985    31   244   254   723   237   428   370    34  1400   580\n",
            "  2520   221   749  1600  2695   306   202   680   570   520   223  2295\n",
            "   213  1065   346    24   286   296   266    26   995  1368   393   182\n",
            "   635   258   780   589   347  1250  1350   446  3200  1050  1650  1550\n",
            "   975   323  6500  2499  1850  2250   715   461   540   356   439   384\n",
            "   569  1900    22   785   626   830   318   444   321   401  1499   888\n",
            "   369   770   386   366   344   630   313   597   262   509 10000   278\n",
            "   312   789  1195   422    21   765  3500   945   326  3100  2486  3390\n",
            "  1356  2599   472   454   328   396   291]\n",
            "150     1481\n",
            "100     1207\n",
            "200     1059\n",
            "125      889\n",
            "75       873\n",
            "        ... \n",
            "840        1\n",
            "306        1\n",
            "2695       1\n",
            "2520       1\n",
            "291        1\n",
            "Name: Clean_Price, Length: 511, dtype: int64\n"
          ]
        }
      ]
    },
    {
      "cell_type": "code",
      "source": [],
      "metadata": {
        "id": "yX7C7dw4mGuR"
      },
      "id": "yX7C7dw4mGuR",
      "execution_count": null,
      "outputs": []
    },
    {
      "cell_type": "code",
      "source": [
        "print(dfshark['Type'].value_counts())"
      ],
      "metadata": {
        "id": "QNhCIZ1XeGgn",
        "outputId": "2750484e-fc94-4af1-b86a-1f3aab09ec47",
        "colab": {
          "base_uri": "https://localhost:8080/"
        }
      },
      "id": "QNhCIZ1XeGgn",
      "execution_count": 27,
      "outputs": [
        {
          "output_type": "stream",
          "name": "stdout",
          "text": [
            "Unprovoked             4716\n",
            "Provoked                593\n",
            "Invalid                 552\n",
            "Sea Disaster            239\n",
            "Watercraft              142\n",
            "Boat                    109\n",
            "Boating                  92\n",
            "Questionable             10\n",
            "Unconfirmed               1\n",
            "Unverified                1\n",
            "Under investigation       1\n",
            "Boatomg                   1\n",
            "Name: Type, dtype: int64\n"
          ]
        }
      ]
    },
    {
      "cell_type": "code",
      "source": [
        "#create new variable to work with\n",
        "dfshark['Type_Clean'] = dfshark['Type']\n",
        "#combine boat, boating, and boatomg under one observation because they all seem to be the same\n",
        "Typedict = {'Boat':'boating', 'Boating':'boating', 'Boatomg':'boating'}\n",
        "dfshark['Type_Clean'] = dfshark['Type_Clean'].replace(Typedict)\n",
        "#combine questionable, unconfirmed, unverified because they are all questionable reports\n",
        "Typedict2 = {'Questionable':'questionable','Unconfirmed':'questionable','Unverified':'questionable'}\n",
        "dfshark['Type_Clean'] = dfshark['Type_Clean'].replace(Typedict2)"
      ],
      "metadata": {
        "id": "0lPu2ycVg5Dt"
      },
      "id": "0lPu2ycVg5Dt",
      "execution_count": 34,
      "outputs": []
    },
    {
      "cell_type": "code",
      "source": [
        "print(dfshark['Type_Clean'].value_counts())"
      ],
      "metadata": {
        "id": "DWwfloRqlp_o",
        "outputId": "44d99201-0fd5-45ea-e042-b97028d25955",
        "colab": {
          "base_uri": "https://localhost:8080/"
        }
      },
      "id": "DWwfloRqlp_o",
      "execution_count": 36,
      "outputs": [
        {
          "output_type": "stream",
          "name": "stdout",
          "text": [
            "Unprovoked             4716\n",
            "Provoked                593\n",
            "Invalid                 552\n",
            "Sea Disaster            239\n",
            "boating                 202\n",
            "Watercraft              142\n",
            "questionable             12\n",
            "Under investigation       1\n",
            "Name: Type_Clean, dtype: int64\n"
          ]
        }
      ]
    },
    {
      "cell_type": "code",
      "source": [],
      "metadata": {
        "id": "OxZQVRWwmEyS"
      },
      "id": "OxZQVRWwmEyS",
      "execution_count": null,
      "outputs": []
    },
    {
      "cell_type": "code",
      "source": [
        "df['WhetherDefendantWasReleasedPretrial'].value_counts()"
      ],
      "metadata": {
        "id": "qRlH6JQal8wL",
        "outputId": "0462a5b7-866f-4ea0-8c23-100abbcd0d33",
        "colab": {
          "base_uri": "https://localhost:8080/"
        }
      },
      "id": "qRlH6JQal8wL",
      "execution_count": 37,
      "outputs": [
        {
          "output_type": "execute_result",
          "data": {
            "text/plain": [
              "1    19154\n",
              "0     3801\n",
              "9       31\n",
              "Name: WhetherDefendantWasReleasedPretrial, dtype: int64"
            ]
          },
          "metadata": {},
          "execution_count": 37
        }
      ]
    },
    {
      "cell_type": "markdown",
      "id": "649494cd-cfd6-4f80-992a-9994fc19e1d5",
      "metadata": {
        "id": "649494cd-cfd6-4f80-992a-9994fc19e1d5"
      },
      "source": [
        "**Q3.** Many important datasets contain a race variable, typically limited to a handful of values often including Black, White, Asian, Latino, and Indigenous. This question looks at data gathering efforts on this variable by the U.S. Federal government.\n",
        "\n",
        "1. How did the most recent US Census gather data on race?\n",
        "2. Why do we gather these data? What role do these kinds of data play in politics and society? Why does data quality matter?\n",
        "3. Please provide a constructive criticism of how the Census was conducted: What was done well? What do you think was missing? How should future large scale surveys be adjusted to best reflect the diversity of the population? Could some of the Census' good practices be adopted more widely to gather richer and more useful data?\n",
        "4. How did the Census gather data on sex and gender? Please provide a similar constructive criticism of their practices.\n",
        "5. When it comes to cleaning data, what concerns do you have about protected characteristics like sex, gender, sexual identity, or race? What challenges can you imagine arising when there are missing values? What good or bad practices might people adopt, and why?\n",
        "6. Suppose someone invented an algorithm to impute values for protected characteristics like race, gender, sex, or sexuality. What kinds of concerns would you have?"
      ]
    },
    {
      "cell_type": "markdown",
      "source": [
        "1.\n",
        "2.\n",
        "3.\n",
        "4.\n",
        "5.\n",
        "6.\n"
      ],
      "metadata": {
        "id": "P2w6zqCkgH1x"
      },
      "id": "P2w6zqCkgH1x"
    },
    {
      "cell_type": "code",
      "source": [],
      "metadata": {
        "id": "5hiCEGcxgN6_"
      },
      "id": "5hiCEGcxgN6_",
      "execution_count": null,
      "outputs": []
    }
  ],
  "metadata": {
    "colab": {
      "provenance": []
    },
    "kernelspec": {
      "display_name": "Python 3 (ipykernel)",
      "language": "python",
      "name": "python3"
    },
    "language_info": {
      "codemirror_mode": {
        "name": "ipython",
        "version": 3
      },
      "file_extension": ".py",
      "mimetype": "text/x-python",
      "name": "python",
      "nbconvert_exporter": "python",
      "pygments_lexer": "ipython3",
      "version": "3.10.4"
    }
  },
  "nbformat": 4,
  "nbformat_minor": 5
}